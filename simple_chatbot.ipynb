{
  "nbformat": 4,
  "nbformat_minor": 0,
  "metadata": {
    "colab": {
      "name": "simple_chatbot.ipynb",
      "provenance": [],
      "collapsed_sections": []
    },
    "kernelspec": {
      "name": "python3",
      "display_name": "Python 3"
    },
    "language_info": {
      "name": "python"
    }
  },
  "cells": [
    {
      "cell_type": "code",
      "execution_count": 1,
      "metadata": {
        "id": "t5rpP7_R2mRv"
      },
      "outputs": [],
      "source": [
        "import numpy as np\n",
        "import nltk"
      ]
    },
    {
      "cell_type": "code",
      "source": [
        "nltk.download('punkt')\n",
        "\n",
        "!pip install -U -q PyDrive\n",
        "from pydrive.auth import GoogleAuth\n",
        "from pydrive.drive import GoogleDrive\n",
        "from google.colab import auth\n",
        "from oauth2client.client import GoogleCredentials\n",
        "\n",
        "auth.authenticate_user()\n",
        "gauth = GoogleAuth()\n",
        "gauth.credentials = GoogleCredentials.get_application_default()\n",
        "drive = GoogleDrive(gauth)\n",
        "# https://drive.google.com/file/d/1E-Z1VCqAYpkJAEnY0sJXopKvxSXMB9tq/view?usp=sharing\n",
        "file_data = drive.CreateFile({'id':'1E-Z1VCqAYpkJAEnY0sJXopKvxSXMB9tq'}) \n",
        "file_data.GetContentFile('intents.json')"
      ],
      "metadata": {
        "colab": {
          "base_uri": "https://localhost:8080/"
        },
        "id": "MamYr8yf5L-O",
        "outputId": "9dcceddc-8951-45dd-b547-f31cbbed89fe"
      },
      "execution_count": 2,
      "outputs": [
        {
          "output_type": "stream",
          "name": "stdout",
          "text": [
            "[nltk_data] Downloading package punkt to /root/nltk_data...\n",
            "[nltk_data]   Unzipping tokenizers/punkt.zip.\n"
          ]
        }
      ]
    },
    {
      "cell_type": "code",
      "source": [
        "from nltk.stem.porter import PorterStemmer\n",
        "stemmer = PorterStemmer()\n",
        "\n",
        "def tokenize(sentence):\n",
        "  return nltk.word_tokenize(sentence)\n",
        "\n",
        "def stemming(word):\n",
        "  return stemmer.stem(word.lower())\n",
        "\n",
        "def bag_of_word(tokenized_sentence, words):\n",
        "  # sentence = [\"hello\", \"how\", \"are\", \"you\"]\n",
        "  # words = [\"hi\", \"hello\", \"I\", \"you\", \"bye\", \"thank\", \"cool\"]\n",
        "  # bog   = [  0 ,    1 ,    0 ,   1 ,    0 ,    0 ,      0]\n",
        "\n",
        "  sentence_word = [stemming(word) for word in tokenized_sentence]\n",
        "  bag = np.zeros(len(words), dtype=np.float32)\n",
        "  for idx, word in enumerate(words):\n",
        "    if word in sentence_word:\n",
        "      bag[idx] = 1\n",
        "  return bag\n",
        "\n"
      ],
      "metadata": {
        "id": "BbXfycTo5Q9o"
      },
      "execution_count": 10,
      "outputs": []
    },
    {
      "cell_type": "code",
      "source": [
        "import json\n",
        "\n",
        "with open(\"/content/intents.json\",'r') as f:\n",
        "  intents = json.load(f)\n",
        "\n",
        "all_words = []\n",
        "tags = []\n",
        "xy = []\n",
        "\n",
        "for intent in intents['intents']:\n",
        "  tag = intent['tag']\n",
        "  tags.append(tag)\n",
        "\n",
        "  for pattern in intent['patterns']:\n",
        "    w = tokenize(pattern)\n",
        "    all_words.extend(w)\n",
        "    xy.append((w, tag))\n",
        "  \n",
        "ignore_words = ['?','.','!']\n",
        "all_words = [stemming(w) for w in all_words if w not in ignore_words]\n",
        "\n",
        "all_words = sorted(set(all_words))\n",
        "tags = sorted(set(tags)) \n",
        "\n",
        "print(len(xy), \"patterns\")\n",
        "print(len(tags), \"tags:\", tags)\n",
        "print(len(all_words), \"unique stemmed words:\", all_words)"
      ],
      "metadata": {
        "colab": {
          "base_uri": "https://localhost:8080/"
        },
        "id": "XlnW_tQHa9L6",
        "outputId": "b20270ae-aa72-4810-fd9a-3e1a0e0c7249"
      },
      "execution_count": 7,
      "outputs": [
        {
          "output_type": "stream",
          "name": "stdout",
          "text": [
            "26 patterns\n",
            "7 tags: ['delivery', 'funny', 'goodbye', 'greeting', 'items', 'payments', 'thanks']\n",
            "54 unique stemmed words: [\"'s\", 'a', 'accept', 'anyon', 'are', 'bye', 'can', 'card', 'cash', 'credit', 'day', 'deliveri', 'do', 'doe', 'funni', 'get', 'good', 'goodby', 'have', 'hello', 'help', 'hey', 'hi', 'how', 'i', 'is', 'item', 'joke', 'kind', 'know', 'later', 'long', 'lot', 'mastercard', 'me', 'my', 'of', 'onli', 'pay', 'paypal', 'see', 'sell', 'ship', 'someth', 'take', 'tell', 'thank', 'that', 'there', 'what', 'when', 'which', 'with', 'you']\n"
          ]
        }
      ]
    },
    {
      "cell_type": "code",
      "source": [
        "print(xy)"
      ],
      "metadata": {
        "colab": {
          "base_uri": "https://localhost:8080/"
        },
        "id": "wBqNp2aSe_bb",
        "outputId": "5b107b47-4218-40be-cb54-2684b5340a99"
      },
      "execution_count": 8,
      "outputs": [
        {
          "output_type": "stream",
          "name": "stdout",
          "text": [
            "[(['Hi'], 'greeting'), (['Hey'], 'greeting'), (['How', 'are', 'you'], 'greeting'), (['Is', 'anyone', 'there', '?'], 'greeting'), (['Hello'], 'greeting'), (['Good', 'day'], 'greeting'), (['Bye'], 'goodbye'), (['See', 'you', 'later'], 'goodbye'), (['Goodbye'], 'goodbye'), (['Thanks'], 'thanks'), (['Thank', 'you'], 'thanks'), (['That', \"'s\", 'helpful'], 'thanks'), (['Thank', \"'s\", 'a', 'lot', '!'], 'thanks'), (['Which', 'items', 'do', 'you', 'have', '?'], 'items'), (['What', 'kinds', 'of', 'items', 'are', 'there', '?'], 'items'), (['What', 'do', 'you', 'sell', '?'], 'items'), (['Do', 'you', 'take', 'credit', 'cards', '?'], 'payments'), (['Do', 'you', 'accept', 'Mastercard', '?'], 'payments'), (['Can', 'I', 'pay', 'with', 'Paypal', '?'], 'payments'), (['Are', 'you', 'cash', 'only', '?'], 'payments'), (['How', 'long', 'does', 'delivery', 'take', '?'], 'delivery'), (['How', 'long', 'does', 'shipping', 'take', '?'], 'delivery'), (['When', 'do', 'I', 'get', 'my', 'delivery', '?'], 'delivery'), (['Tell', 'me', 'a', 'joke', '!'], 'funny'), (['Tell', 'me', 'something', 'funny', '!'], 'funny'), (['Do', 'you', 'know', 'a', 'joke', '?'], 'funny')]\n"
          ]
        }
      ]
    },
    {
      "cell_type": "code",
      "source": [
        "X_train = []\n",
        "y_train = []\n",
        "\n",
        "for pattern_sentence, tag in xy:\n",
        "  bag = bag_of_word(pattern_sentence, all_words)\n",
        "  label = tags.index(tag)\n",
        "\n",
        "  X_train.append(bag)\n",
        "  y_train.append(label)\n",
        "\n",
        "X_train = np.array(X_train)\n",
        "y_train = np.array(y_train)"
      ],
      "metadata": {
        "id": "n7pghofHdsad"
      },
      "execution_count": 11,
      "outputs": []
    },
    {
      "cell_type": "code",
      "source": [
        "X_train[3]"
      ],
      "metadata": {
        "colab": {
          "base_uri": "https://localhost:8080/"
        },
        "id": "azGupwaUfpsm",
        "outputId": "6c505315-438e-4724-94be-5869d5d8f09e"
      },
      "execution_count": 15,
      "outputs": [
        {
          "output_type": "execute_result",
          "data": {
            "text/plain": [
              "array([0., 0., 0., 1., 0., 0., 0., 0., 0., 0., 0., 0., 0., 0., 0., 0., 0.,\n",
              "       0., 0., 0., 0., 0., 0., 0., 0., 1., 0., 0., 0., 0., 0., 0., 0., 0.,\n",
              "       0., 0., 0., 0., 0., 0., 0., 0., 0., 0., 0., 0., 0., 0., 1., 0., 0.,\n",
              "       0., 0., 0.], dtype=float32)"
            ]
          },
          "metadata": {},
          "execution_count": 15
        }
      ]
    },
    {
      "cell_type": "code",
      "source": [
        "y_train"
      ],
      "metadata": {
        "colab": {
          "base_uri": "https://localhost:8080/"
        },
        "id": "IYoOMCxbfsGk",
        "outputId": "fb863672-7e42-436a-e77a-6fc4c90078b3"
      },
      "execution_count": 13,
      "outputs": [
        {
          "output_type": "execute_result",
          "data": {
            "text/plain": [
              "array([3, 3, 3, 3, 3, 3, 2, 2, 2, 6, 6, 6, 6, 4, 4, 4, 5, 5, 5, 5, 0, 0,\n",
              "       0, 1, 1, 1])"
            ]
          },
          "metadata": {},
          "execution_count": 13
        }
      ]
    },
    {
      "cell_type": "code",
      "source": [
        "import torch\n",
        "import torch.nn as nn\n",
        "\n",
        "class NeuralNet(nn.Module):\n",
        "    def __init__(self, input_size, hidden_size, num_classes):\n",
        "        super(NeuralNet, self).__init__()\n",
        "        self.l1 = nn.Linear(input_size, hidden_size) \n",
        "        self.l2 = nn.Linear(hidden_size, hidden_size) \n",
        "        self.l3 = nn.Linear(hidden_size, num_classes)\n",
        "        self.relu = nn.ReLU()\n",
        "    \n",
        "    def forward(self, x):\n",
        "        out = self.l1(x)\n",
        "        out = self.relu(out)\n",
        "        out = self.l2(out)\n",
        "        out = self.relu(out)\n",
        "        out = self.l3(out)\n",
        "        # no activation and no softmax at the end\n",
        "        return out"
      ],
      "metadata": {
        "id": "DhgI2tTTgsOn"
      },
      "execution_count": 16,
      "outputs": []
    },
    {
      "cell_type": "code",
      "source": [
        "import random\n",
        "from torch.utils.data import Dataset, DataLoader\n",
        "\n",
        "# Hyper-parameters \n",
        "num_epochs = 1000\n",
        "batch_size = 8\n",
        "learning_rate = 0.001\n",
        "\n",
        "input_size = len(X_train[0])\n",
        "hidden_size = 8\n",
        "output_size = len(tags)\n",
        "print(input_size, output_size)\n",
        "\n",
        "class ChatDataset(Dataset):\n",
        "  def __init__(self):\n",
        "    self.n_samples = len(X_train)\n",
        "    self.x_data = X_train\n",
        "    self.y_data = y_train\n",
        "\n",
        "  def __getitem__(self, index):\n",
        "    return self.x_data[index], self.y_data[index]\n",
        "\n",
        "  def __len__(self):\n",
        "    return self.n_samples\n",
        "\n",
        "dataset = ChatDataset()\n",
        "train_loader = DataLoader(\n",
        "    dataset=dataset, \n",
        "    batch_size=batch_size,\n",
        "    shuffle=True,\n",
        "    num_workers=0 \n",
        "    )"
      ],
      "metadata": {
        "colab": {
          "base_uri": "https://localhost:8080/"
        },
        "id": "YEfXPk5gfM3i",
        "outputId": "f0bc2133-154f-441d-b2d2-06ae368eacb6"
      },
      "execution_count": 18,
      "outputs": [
        {
          "output_type": "stream",
          "name": "stdout",
          "text": [
            "54 7\n"
          ]
        }
      ]
    },
    {
      "cell_type": "code",
      "source": [
        "device = torch.device('cuda' if torch.cuda.is_available() else 'cpu')\n",
        "model = NeuralNet(input_size, hidden_size, output_size)\n",
        "criterion = nn.CrossEntropyLoss()\n",
        "optimizer = torch.optim.Adam(model.parameters(), lr=learning_rate)\n",
        "\n",
        "for epoch in range(num_epochs):\n",
        "  for (words, labels) in train_loader:\n",
        "    words = words.to(device)\n",
        "    labels = labels.to(dtype=torch.long).to(device)\n",
        "\n",
        "    outputs = model(words)\n",
        "    loss = criterion(outputs, labels)\n",
        "\n",
        "    optimizer.zero_grad()\n",
        "    loss.backward()\n",
        "    optimizer.step()\n",
        "\n",
        "  if (epoch+1) %100 == 0:\n",
        "    print(f'Epoch [{epoch+1}/{num_epochs}], Loss: {loss.item():.4f}')\n",
        "\n",
        "print(f'Final loss : {loss.item():.4f}')\n",
        "\n",
        "data = {\n",
        "\"model_state\": model.state_dict(),\n",
        "\"input_size\": input_size,\n",
        "\"hidden_size\": hidden_size,\n",
        "\"output_size\": output_size,\n",
        "\"all_words\": all_words,\n",
        "\"tags\": tags\n",
        "}\n",
        "\n",
        "FILE = \"data.pth\"\n",
        "torch.save(data, FILE)\n",
        "\n",
        "print(f'training complete. file saved to {FILE}')"
      ],
      "metadata": {
        "colab": {
          "base_uri": "https://localhost:8080/"
        },
        "id": "AJP4LHUPhxVW",
        "outputId": "d28c19f0-d577-4205-e916-b4dd1267d769"
      },
      "execution_count": 20,
      "outputs": [
        {
          "output_type": "stream",
          "name": "stdout",
          "text": [
            "Epoch [100/1000], Loss: 0.8222\n",
            "Epoch [200/1000], Loss: 0.2092\n",
            "Epoch [300/1000], Loss: 0.0214\n",
            "Epoch [400/1000], Loss: 0.0159\n",
            "Epoch [500/1000], Loss: 0.0118\n",
            "Epoch [600/1000], Loss: 0.0047\n",
            "Epoch [700/1000], Loss: 0.0027\n",
            "Epoch [800/1000], Loss: 0.0009\n",
            "Epoch [900/1000], Loss: 0.0016\n",
            "Epoch [1000/1000], Loss: 0.0007\n",
            "Final loss : 0.0007\n",
            "training complete. file saved to data.pth\n"
          ]
        }
      ]
    },
    {
      "cell_type": "code",
      "source": [
        "model.eval()\n",
        "\n",
        "bot_name = 'Ganyu'\n",
        "print(\"lets chat! (type 'quit' to exit) \")\n",
        "while True:\n",
        "  sentence = input(\"You : \")\n",
        "  if sentence == 'quit':\n",
        "    break\n",
        "  \n",
        "  sentence = tokenize(sentence)\n",
        "  X = bag_of_word(sentence, all_words)\n",
        "  X = X.reshape(1, X.shape[0])\n",
        "  X = torch.from_numpy(X).to(device)\n",
        "\n",
        "  output = model(X)\n",
        "  _, predicted = torch.max(output, dim=1)\n",
        "  tag = tags[predicted.item()]\n",
        "\n",
        "  probs = torch.softmax(output, dim=1)\n",
        "  prob = probs[0][predicted.item()]\n",
        "  if prob.item() > 0.55:\n",
        "    for intent in intents['intents']:\n",
        "      if tag == intent['tag']:\n",
        "        print(f\"{bot_name}: {random.choice(intent['responses'])}\")\n",
        "  else:\n",
        "    print(f'{bot_name}: I do not understand.. :(')"
      ],
      "metadata": {
        "colab": {
          "base_uri": "https://localhost:8080/"
        },
        "id": "81sMt9gHjBhu",
        "outputId": "53c34588-fbf2-4b22-d22d-91f044e9c62f"
      },
      "execution_count": 24,
      "outputs": [
        {
          "name": "stdout",
          "output_type": "stream",
          "text": [
            "lets chat! (type 'quit' to exit) \n",
            "You : hai\n",
            "Ganyu: Hi there, how can I help?\n",
            "You : can you help me?\n",
            "Ganyu: Hi there, how can I help?\n",
            "You : i need cofee\n",
            "Ganyu: I do not understand.. :(\n",
            "You : what can you do?\n",
            "Ganyu: I do not understand.. :(\n",
            "You : i hope we can do it\n",
            "Ganyu: We accept most major credit cards, and Paypal\n",
            "You : payment?\n",
            "Ganyu: Hi there, what can I do for you?\n",
            "You : pay?\n",
            "Ganyu: I do not understand.. :(\n",
            "You : i want to pay\n",
            "Ganyu: We accept most major credit cards, and Paypal\n",
            "You : but i dont have money\n",
            "Ganyu: I do not understand.. :(\n",
            "You : begone\n",
            "Ganyu: Hi there, what can I do for you?\n",
            "You : hallllo\n",
            "Ganyu: Hi there, what can I do for you?\n",
            "You : goodbye\n",
            "Ganyu: Bye! Come back again soon.\n",
            "You : quit\n"
          ]
        }
      ]
    }
  ]
}